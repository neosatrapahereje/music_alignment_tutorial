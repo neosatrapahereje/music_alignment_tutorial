{
 "cells": [
  {
   "cell_type": "markdown",
   "metadata": {},
   "source": [
    "[![Open In Colab](https://colab.research.google.com/assets/colab-badge.svg)](https://colab.research.google.com/github/neosatrapahereje/music_alignment_tutorial/blob/main/DTW_tutorial.ipynb)\n"
   ]
  },
  {
   "cell_type": "markdown",
   "metadata": {},
   "source": [
    "# A short tutorial on Dynamic Time Warping\n",
    "\n",
    "This notebook contains a small introduction to Dynamic Time Warping (DTW).\n",
    "\n",
    "DTW is a [dynamic programming algorithm](https://en.wikipedia.org/wiki/Dynamic_programming) to find the **optimal** alignment between to time-dependent sequences. Unlike Euclidean distance, which requires point-to-point correspondence between two sequences, DTW allows for elastic transformations of the time axis, enabling it to find an optimal match between two sequences that may vary in time.\n",
    "\n",
    "The DTW algorithm finds the alignment between two sequence in three steps:\n",
    "\n",
    "1. Compute $\\mathbf{C}$, the pairwise distance matrix between elements in sequence $\\mathbf{X}$ and $\\mathbf{Y}$.\n",
    "2. Compute the accumulated cost matrix $\\mathbf{D}$. The element $\\mathbf{D}[i,j]$ represents the \"cost\" required for $x_i$ and $y_j$ to be aligned. Following a dynamic programming approach, the element $\\mathbf{D}[i,j]$ can be computed recursively using the following equation:\n",
    "\n",
    "$$\\mathbf{D}[i,j] = \\mathbf{C}[i,j] + \\min \\left\\{\\mathbf{D}[i-1, j-1], \\mathbf{D}[i-1, j], \\mathbf{D}[i, j-1] \\right\\}$$\n",
    "\n",
    "3. Find the best alignment by backtracking over $\\mathbf{D}$\n",
    "\n"
   ]
  },
  {
   "cell_type": "code",
   "execution_count": null,
   "metadata": {},
   "outputs": [],
   "source": [
    "try:\n",
    "    import google.colab\n",
    "\n",
    "    IN_COLAB = True\n",
    "except:\n",
    "    IN_COLAB = False\n",
    "\n",
    "if IN_COLAB:\n",
    "    # Install partitura\n",
    "    ! pip install fastdtw\n",
    "\n",
    "    # To be able to access helper modules in the repo for this tutorial\n",
    "    # (not necessary if the jupyter notebook is run locally instead of google colab)\n",
    "    !git clone https://github.com/neosatrapahereje/music_alignment_tutorial\n",
    "    import sys\n",
    "    sys.path.insert(0, \"./music_alignment_tutorial/\")"
   ]
  },
  {
   "cell_type": "code",
   "execution_count": null,
   "metadata": {},
   "outputs": [],
   "source": [
    "import numpy as np\n",
    "import matplotlib.pyplot as plt\n",
    "from helper import  generate_example_sequences, plot_alignment\n",
    "\n",
    "from typing import List\n",
    "\n",
    "%config InlineBackend.figure_format ='retina'"
   ]
  },
  {
   "cell_type": "markdown",
   "metadata": {},
   "source": [
    "For now, let us generate some test data that we can play with!"
   ]
  },
  {
   "cell_type": "code",
   "execution_count": null,
   "metadata": {},
   "outputs": [],
   "source": [
    "# This is a helper method to generate sample sequences\n",
    "# (see helper.py for documentation)\n",
    "\n",
    "# lenght of the \"reference\" sequence\n",
    "lenX = 15\n",
    "\n",
    "# dimensionality of the feature space\n",
    "K = 5\n",
    "\n",
    "# This method generates an example sequence\n",
    "X, Y, gr_path = generate_example_sequences(\n",
    "    lenX=lenX,\n",
    "    centers=3,\n",
    "    n_features=K,\n",
    "    maxreps=4,\n",
    "    minreps=1,\n",
    "    noise_scale=0.1,\n",
    ")\n",
    "\n",
    "# Let us plot the data to see how it looks like!\n",
    "plot_alignment(X, Y, gr_path)"
   ]
  },
  {
   "cell_type": "markdown",
   "metadata": {},
   "source": [
    "## Comparing the similarity of the features: Local cost distance\n",
    "\n",
    "We would like to know how to compare the elements in $\\mathbf{X}$ and $\\mathbf{Y}$. For this we use a local distance function, which can be any distance(-like) function that is small when $\\mathbf{x}_i$ is *similar* to $\\mathbf{y}_j$.\n",
    "\n",
    "Which distance to use depends on the problem at hand, although usual starting points are the Euclidean and the Manhattan ($L_1$) distances.\n",
    "\n",
    "Using this local distance, we can compare the elements in both sequences by comparing the pairwise distance of all elements in $\\mathbf{X}$ and $\\mathbf{Y}$. This will result in a matrix $\\mathbf{C}$, where the element $\\mathbf{C}[i,j]$ is given by\n",
    "\n",
    "$$\\mathbf{C}[i,j] = \\text{distance}(\\mathbf{x}_i, \\mathbf{y}_j)$$"
   ]
  },
  {
   "cell_type": "markdown",
   "metadata": {},
   "source": [
    "Let's visualize the pairwise cost matrix. \n",
    "\n",
    "(See metrics implemented in [scipy.spatial.distance](https://docs.scipy.org/doc/scipy/reference/spatial.distance.html))"
   ]
  },
  {
   "cell_type": "code",
   "execution_count": null,
   "metadata": {},
   "outputs": [],
   "source": [
    "from alignment import (\n",
    "    pairwise_distance_matrix,\n",
    "    accumulated_cost_matrix,\n",
    "    optimal_warping_path,\n",
    ")\n",
    "\n",
    "# Metrics to consider\n",
    "# You can explore more possbilities in\n",
    "# https://docs.scipy.org/doc/scipy/reference/spatial.distance.html\n",
    "metrics = [\"euclidean\", \"cosine\", \"cityblock\", \"canberra\", \"correlation\", \"chebyshev\"]\n",
    "\n",
    "n_rows = int(np.ceil(np.sqrt(len(metrics))))\n",
    "n_columns = int(np.ceil(len(metrics) / n_rows))\n",
    "fig, axes = plt.subplots(n_rows, n_columns, sharex=True, sharey=True, figsize=(10, 5))\n",
    "\n",
    "for i in range(n_rows):\n",
    "    for j in range(n_columns):\n",
    "        mix = i * n_columns + j\n",
    "\n",
    "        if mix < len(metrics):\n",
    "            # Compute pairwise distance matrix\n",
    "            C = pairwise_distance_matrix(X, Y, metric=metrics[mix])\n",
    "            # Plot matrix\n",
    "            axes[i, j].imshow(C, origin=\"lower\", aspect=\"equal\", cmap=\"gray\")\n",
    "            axes[i, j].set_xlabel(r\"$\\mathbf{Y}$\")\n",
    "            axes[i, j].set_ylabel(r\"$\\mathbf{X}$\")\n",
    "            axes[i, j].set_title(metrics[mix])\n",
    "\n",
    "plt.tight_layout()\n",
    "plt.show()"
   ]
  },
  {
   "cell_type": "markdown",
   "metadata": {},
   "source": [
    "## Computing the accumulated cost\n",
    "\n",
    "An intuitive description of matrix $\\mathbf{D}$, the accumulated cost matrix in DTW, can be likened to a map that charts the journey between sequences $\\mathbf{X}$ and $\\mathbf{Y}$, where each element $x$ in $\\mathbf{X}$ wishes to visit an element in $\\mathbf{Y}$. Each cell in $\\mathbf{D}$ represents a specific meeting point between a member of sequence $\\mathbf{X}$ and a member of sequence $\\mathbf{Y}$, and the value in each cell reflects the \"cost\" or \"effort\" required for them to meet.\n",
    "\n",
    "* **Input**: Cost matrix $\\mathbf{C}$ of size $N \\times M$\n",
    "* **Output**: $d_{DTW}$\n",
    "\n",
    "**Procedure**\n",
    "\n",
    "1. Initialize $N \\times M$ matrix $D$ (accumulated cost) by\n",
    "\n",
    "$$\\mathbf{D}[n, 0] = \\sum_{k=0}^{n} \\mathbf{C}[k, 0]$$\n",
    "\n",
    "for $n \\in [0,N-1]$, and\n",
    "\n",
    "$$\\mathbf{D}[0, m] = \\sum_{k=0}^{m} \\mathbf{C}[0, k]$$\n",
    "\n",
    "for $n \\in [0, M-1]$\n",
    "\n",
    "2. Compute in a nested loop for $n=1,\\dots, N-1$ and $m=1, \\dots, M-1$\n",
    "\n",
    "$$\\mathbf{D}[n, m] = \\mathbf{C}[n, m] + \\min \\left\\{\\mathbf{D}[n-1, m-1], \\mathbf{D}[n-1, m], \\mathbf{D}[n, m-1] \\right\\}$$\n",
    "\n",
    "3. The dynamic time warping distance is given by\n",
    "\n",
    "$$d_{DTW}(\\mathbf{X}, \\mathbf{Y}) = \\mathbf{D}[N-1, M-1]$$"
   ]
  },
  {
   "cell_type": "code",
   "execution_count": null,
   "metadata": {},
   "outputs": [],
   "source": [
    "C = pairwise_distance_matrix(X, Y, metric=\"euclidean\")\n",
    "D = accumulated_cost_matrix(C)\n",
    "\n",
    "# Visualize accumulated cost matrix\n",
    "plt.imshow(D, origin=\"lower\", aspect=\"equal\", cmap=\"gray\")\n",
    "plt.xlabel(r\"Sequence $\\mathbf{Y}$\")\n",
    "plt.ylabel(r\"Sequence $\\mathbf{X}$\")\n",
    "plt.colorbar()\n",
    "plt.show()"
   ]
  },
  {
   "cell_type": "markdown",
   "metadata": {},
   "source": [
    "## Compute Optimal Path"
   ]
  },
  {
   "cell_type": "code",
   "execution_count": null,
   "metadata": {},
   "outputs": [],
   "source": [
    "P = optimal_warping_path(D)\n",
    "\n",
    "plt.figure(figsize=(9, 3))\n",
    "plt.subplot(1, 2, 1)\n",
    "plt.imshow(C, cmap=\"gray_r\", origin=\"lower\", aspect=\"equal\")\n",
    "plt.plot(P[:, 1], P[:, 0], marker=\"o\", color=\"r\")\n",
    "plt.clim([0, np.max(C)])\n",
    "plt.colorbar()\n",
    "plt.title(\"$C$ with optimal warping path\")\n",
    "plt.xlabel(\"Sequence Y\")\n",
    "plt.ylabel(\"Sequence X\")\n",
    "\n",
    "plt.subplot(1, 2, 2)\n",
    "plt.imshow(D, cmap=\"gray_r\", origin=\"lower\", aspect=\"equal\")\n",
    "plt.plot(P[:, 1], P[:, 0], marker=\"o\", color=\"r\")\n",
    "plt.plot(gr_path[:, 1], gr_path[:, 0], marker=\"d\", color=\"purple\", linewidth=1.1)\n",
    "plt.clim([0, np.max(D)])\n",
    "plt.colorbar()\n",
    "plt.title(\"$D$ with optimal warping path\")\n",
    "plt.xlabel(\"Sequence Y\")\n",
    "plt.ylabel(\"Sequence X\")\n",
    "\n",
    "plt.tight_layout()"
   ]
  },
  {
   "cell_type": "markdown",
   "metadata": {},
   "source": [
    "This naive implementation is very slow! You can only use it for aligning small sequences. For practical stuff, we are going to use the `fasdtw` package. This package contains an efficient implementation of vanilla DTW, as well as a faster approximation, called FastDTW."
   ]
  },
  {
   "cell_type": "code",
   "execution_count": null,
   "metadata": {},
   "outputs": [],
   "source": [
    "from alignment import dynamic_time_warping, fast_dynamic_time_warping\n",
    "import time\n",
    "\n",
    "for lenX in [10, 100, 1000]:\n",
    "    X, Y, gr_path = generate_example_sequences(\n",
    "        lenX=lenX, centers=3, n_features=K, maxreps=2, minreps=2, noise_scale=0.1\n",
    "    )\n",
    "    st = time.process_time()\n",
    "    path_naive, dtwd_naive = dynamic_time_warping(X, Y, return_distance=True)\n",
    "    et_naive = time.process_time() - st\n",
    "\n",
    "    st = time.process_time()\n",
    "    path_fdtw, dtwd_fdtw = fast_dynamic_time_warping(X, Y, return_distance=True)\n",
    "    et_fdtw = time.process_time() - st\n",
    "\n",
    "    print(f\"Input sizes: X:{X.shape} Y:{Y.shape}\")\n",
    "    print(f\"\\tDTW: {dtwd_naive:.3f} ({et_naive * 1000:.2f} ms)\")\n",
    "    print(f\"\\tFastDTW: {dtwd_fdtw:.3f} ({et_fdtw * 1000:.2f} ms)\")"
   ]
  }
 ],
 "metadata": {
  "kernelspec": {
   "display_name": "miws23",
   "language": "python",
   "name": "python3"
  },
  "language_info": {
   "codemirror_mode": {
    "name": "ipython",
    "version": 3
   },
   "file_extension": ".py",
   "mimetype": "text/x-python",
   "name": "python",
   "nbconvert_exporter": "python",
   "pygments_lexer": "ipython3",
   "version": "3.9.18"
  }
 },
 "nbformat": 4,
 "nbformat_minor": 2
}
